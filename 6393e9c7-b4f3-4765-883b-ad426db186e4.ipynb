{
 "cells": [
  {
   "cell_type": "markdown",
   "metadata": {},
   "source": [
    "Анализируем продажи компьютерных игр из стрима. Из открытых источников доступны исторические данные о продажах игр, оценки пользователей и экспертов, жанры и платформы (например, Xbox или PlayStation). Вам нужно выявить определяющие успешность игры закономерности. Это позволит сделать ставку на потенциально популярный продукт и спланировать рекламные кампании.\n",
    "Перед вами данные до 2016 года. Представим, что сейчас декабрь 2016 г., и вы планируете кампанию на 2017-й. Нужно отработать принцип работы с данными. Не важно, прогнозируете ли вы продажи на 2017 год по данным 2016-го или же 2027-й — по данным 2026 года.\n",
    "В наборе данных попадается аббревиатура ESRB (Entertainment Software Rating Board) — это ассоциация, определяющая возрастной рейтинг компьютерных игр. ESRB оценивает игровой контент и присваивает ему подходящую возрастную категорию, например, «Для взрослых», «Для детей младшего возраста» или «Для подростков»."
   ]
  },
  {
   "cell_type": "markdown",
   "metadata": {},
   "source": [
    "# 1. Открываем файл"
   ]
  },
  {
   "cell_type": "code",
   "execution_count": 1,
   "metadata": {},
   "outputs": [
    {
     "name": "stdout",
     "output_type": "stream",
     "text": [
      "<class 'pandas.core.frame.DataFrame'>\n",
      "RangeIndex: 16715 entries, 0 to 16714\n",
      "Data columns (total 11 columns):\n",
      "Name               16713 non-null object\n",
      "Platform           16715 non-null object\n",
      "Year_of_Release    16446 non-null float64\n",
      "Genre              16713 non-null object\n",
      "NA_sales           16715 non-null float64\n",
      "EU_sales           16715 non-null float64\n",
      "JP_sales           16715 non-null float64\n",
      "Other_sales        16715 non-null float64\n",
      "Critic_Score       8137 non-null float64\n",
      "User_Score         10014 non-null object\n",
      "Rating             9949 non-null object\n",
      "dtypes: float64(6), object(5)\n",
      "memory usage: 1.4+ MB\n"
     ]
    }
   ],
   "source": [
    "import pandas as pd\n",
    "import numpy as np\n",
    "import matplotlib.pyplot as plt\n",
    "import seaborn as sns\n",
    "from scipy import stats as st\n",
    "\n",
    "\n",
    "df = pd.read_csv(\"/datasets/games.csv\")\n",
    "\n",
    "df.head()\n",
    "df.info()"
   ]
  },
  {
   "cell_type": "markdown",
   "metadata": {},
   "source": [
    "# Подготовка данных"
   ]
  },
  {
   "cell_type": "code",
   "execution_count": 2,
   "metadata": {},
   "outputs": [],
   "source": [
    "#приводим названия столбцов к нижнему регистру\n",
    "lowerd = {i : i.lower() for i in df.columns}\n",
    "df = df.rename(columns=lowerd)"
   ]
  },
  {
   "cell_type": "code",
   "execution_count": 3,
   "metadata": {},
   "outputs": [
    {
     "name": "stdout",
     "output_type": "stream",
     "text": [
      "      name platform  year_of_release genre  na_sales  eu_sales  jp_sales  \\\n",
      "659    NaN      GEN           1993.0   NaN      1.78      0.53      0.00   \n",
      "14244  NaN      GEN           1993.0   NaN      0.00      0.00      0.03   \n",
      "\n",
      "       other_sales  critic_score user_score rating  \n",
      "659           0.08           NaN        NaN    NaN  \n",
      "14244         0.00           NaN        NaN    NaN  \n"
     ]
    }
   ],
   "source": [
    "#смотрим пропуски\n",
    "print(df[df['name'].isnull()]) # непонятные 2 значения. можно удалить\n",
    "df = df[df['name'].notnull()]"
   ]
  },
  {
   "cell_type": "code",
   "execution_count": 4,
   "metadata": {
    "scrolled": true
   },
   "outputs": [],
   "source": [
    "# рассмотрим пропуски в дате выпуска\n",
    "#print(df[df['year_of_release'].isnull()].head(20)) #видим что иногда в \"name\" есть ответ с годом выпуска\n",
    "# они идут как последние 4 значения в таких случаях\n",
    "def find_year(col):\n",
    "    name = col['name']\n",
    "    current = name[-4:]\n",
    "    try:\n",
    "        if (int(current) >= 1980) &(int(current) <= 2016):\n",
    "            #print(int(current))\n",
    "            return int(current)\n",
    "    except:\n",
    "        return np.nan\n",
    "df['find_year']= df.apply(find_year, axis=1)"
   ]
  },
  {
   "cell_type": "code",
   "execution_count": 5,
   "metadata": {
    "scrolled": false
   },
   "outputs": [
    {
     "name": "stdout",
     "output_type": "stream",
     "text": [
      "<class 'pandas.core.frame.DataFrame'>\n",
      "Int64Index: 16713 entries, 0 to 16714\n",
      "Data columns (total 11 columns):\n",
      "name               16713 non-null object\n",
      "platform           16713 non-null object\n",
      "year_of_release    16459 non-null float64\n",
      "genre              16713 non-null object\n",
      "na_sales           16713 non-null float64\n",
      "eu_sales           16713 non-null float64\n",
      "jp_sales           16713 non-null float64\n",
      "other_sales        16713 non-null float64\n",
      "critic_score       8137 non-null float64\n",
      "user_score         10014 non-null object\n",
      "rating             9949 non-null object\n",
      "dtypes: float64(6), object(5)\n",
      "memory usage: 2.2+ MB\n"
     ]
    },
    {
     "name": "stderr",
     "output_type": "stream",
     "text": [
      "/opt/conda/lib/python3.7/site-packages/ipykernel_launcher.py:2: SettingWithCopyWarning: \n",
      "A value is trying to be set on a copy of a slice from a DataFrame\n",
      "\n",
      "See the caveats in the documentation: http://pandas.pydata.org/pandas-docs/stable/user_guide/indexing.html#returning-a-view-versus-a-copy\n",
      "  \n"
     ]
    }
   ],
   "source": [
    "#print(df[(df['year_of_release'].isnull())&(df['find_year'].notnull())]) #немного удалось найти\n",
    "df['year_of_release'][df['year_of_release'].isnull()] = df['find_year'][df['year_of_release'].isnull()]\n",
    "df = df.drop(columns = \"find_year\")\n",
    "df.info() # нашли 15 штук всего :("
   ]
  },
  {
   "cell_type": "code",
   "execution_count": 6,
   "metadata": {},
   "outputs": [],
   "source": [
    "pivot = pd.pivot_table(df, index ='platform', values = 'year_of_release', aggfunc = 'mean' )\n",
    "# будем заполнять оставшиеся пропуски по платформе\n",
    "platform_years = {pivot.index[i] : pivot['year_of_release'][i] for i in range(len(pivot.index))}\n",
    "# сохраним медианы в словарик"
   ]
  },
  {
   "cell_type": "code",
   "execution_count": 7,
   "metadata": {},
   "outputs": [
    {
     "name": "stdout",
     "output_type": "stream",
     "text": [
      "<class 'pandas.core.frame.DataFrame'>\n",
      "Int64Index: 16713 entries, 0 to 16714\n",
      "Data columns (total 11 columns):\n",
      "name               16713 non-null object\n",
      "platform           16713 non-null object\n",
      "year_of_release    16713 non-null int64\n",
      "genre              16713 non-null object\n",
      "na_sales           16713 non-null float64\n",
      "eu_sales           16713 non-null float64\n",
      "jp_sales           16713 non-null float64\n",
      "other_sales        16713 non-null float64\n",
      "critic_score       8137 non-null float64\n",
      "user_score         10014 non-null object\n",
      "rating             9949 non-null object\n",
      "dtypes: float64(5), int64(1), object(5)\n",
      "memory usage: 2.2+ MB\n"
     ]
    }
   ],
   "source": [
    "df['year_of_release'] =df['year_of_release'].fillna(\"\")\n",
    "def replace_median(col):\n",
    "    year = col['year_of_release']\n",
    "    platform =col['platform']\n",
    "    if year == \"\":\n",
    "        #print(year)\n",
    "        #print(platform_years.get(platform))\n",
    "        return platform_years.get(platform)\n",
    "    else:\n",
    "        return year\n",
    "#df.info()\n",
    "df['year_of_release']= df.apply(replace_median, axis=1)\n",
    "df['year_of_release'] =df['year_of_release'].astype(int)\n",
    "df.info() \n",
    "#с годом выпуска разобрались"
   ]
  },
  {
   "cell_type": "code",
   "execution_count": 8,
   "metadata": {},
   "outputs": [],
   "source": [
    "# tbd в рейтингах означает недостаточное количество голосов для оценки\n",
    "#print(df.query('user_score == \"tbd\" ')) # 2424 результата\n",
    "\n",
    "# tbd правильно заменить на Nan. (На 0 нельзя потому что это повалит средние значения.)\n",
    "\n",
    "def replace_tbd(row):\n",
    "    user_score = row['user_score']\n",
    "    if user_score == \"tbd\":\n",
    "        return np.nan\n",
    "    else:\n",
    "        return user_score\n",
    "df['user_score']= df.apply(replace_tbd, axis=1)\n",
    "\n",
    "# заполнятьпропуски в оценках ничем не будем, потому что отсутсвие рейтинга это тоже рейтинг"
   ]
  },
  {
   "cell_type": "code",
   "execution_count": 9,
   "metadata": {},
   "outputs": [],
   "source": [
    "df['user_score'] = df['user_score'].astype('float')"
   ]
  },
  {
   "cell_type": "code",
   "execution_count": 10,
   "metadata": {},
   "outputs": [],
   "source": [
    "#Посчитайте суммарные продажи во всех регионах и запишите их в отдельный столбец.\n",
    "\n",
    "df['total_sales'] = df['na_sales'] + df['eu_sales'] + df['jp_sales'] +df['other_sales']"
   ]
  },
  {
   "cell_type": "markdown",
   "metadata": {},
   "source": [
    "#### Мы подготовили данные к дальнейшему анализу. Заменили дубликаты, создали столбик с сумарным количеством продаж\n"
   ]
  },
  {
   "cell_type": "markdown",
   "metadata": {},
   "source": [
    "# Исследовательский анализ данных"
   ]
  },
  {
   "cell_type": "code",
   "execution_count": 11,
   "metadata": {},
   "outputs": [
    {
     "name": "stdout",
     "output_type": "stream",
     "text": [
      "AxesSubplot(0.125,0.125;0.775x0.755)\n"
     ]
    },
    {
     "data": {
      "image/png": "[encoded data removed]",
      "text/plain": [
       "<Figure size 432x288 with 1 Axes>"
      ]
     },
     "metadata": {
      "needs_background": "light"
     },
     "output_type": "display_data"
    }
   ],
   "source": [
    "#Посмотрите, сколько игр выпускалось в разные годы. Важны ли данные за все периоды?\n",
    "\n",
    "pivot = df.pivot_table(index = 'year_of_release', values = 'name', aggfunc ='count')\n",
    "print(pivot.plot())\n",
    "# с 1998 года идет подьем, еще виден кризис 2008 года "
   ]
  },
  {
   "cell_type": "code",
   "execution_count": 12,
   "metadata": {
    "scrolled": true
   },
   "outputs": [
    {
     "name": "stdout",
     "output_type": "stream",
     "text": [
      "          total_sales\n",
      "platform             \n",
      "PS2           1255.77\n",
      "X360           971.42\n",
      "PS3            939.65\n",
      "Wii            907.51\n",
      "DS             806.12\n",
      "PS             730.86\n",
      "GBA            317.85\n",
      "PS4            314.14\n",
      "PSP            294.05\n",
      "PC             259.52\n",
      "3DS            259.00\n",
      "XB             257.74\n",
      "GB             255.46\n",
      "NES            251.05\n",
      "N64            218.68\n",
      "SNES           200.04\n",
      "GC             198.93\n",
      "XOne           159.32\n",
      "2600            96.98\n",
      "WiiU            82.19\n",
      "PSV             54.07\n",
      "SAT             33.59\n",
      "GEN             28.35\n",
      "DC              15.95\n",
      "SCD              1.86\n",
      "NG               1.44\n",
      "WS               1.42\n",
      "TG16             0.16\n",
      "3DO              0.10\n",
      "GG               0.04\n",
      "PCFX             0.03\n"
     ]
    }
   ],
   "source": [
    "#Посмотрите, как менялись продажи по платформам. \n",
    "#Выберите платформы с наибольшими суммарными продажами и постройте распределение по годам.\n",
    "#За какой характерный срок появляются новые и исчезают старые платформы?\n",
    "platforms = pd.pivot_table(df, index = 'platform', values = 'total_sales',\n",
    "                          aggfunc = 'sum')\n",
    "\n",
    "platforms = platforms.sort_values('total_sales',ascending = False)\n",
    "print(platforms)"
   ]
  },
  {
   "cell_type": "code",
   "execution_count": 13,
   "metadata": {},
   "outputs": [],
   "source": [
    "#возьмем первые 6, потому что они идут с двукратным отрывом\n",
    "top6 = platforms.head(6)\n",
    "top6list = top6.index.tolist()\n",
    "#теперь построим опять сводную но с годами\n",
    "platforms_years = pd.pivot_table(df, index = ['platform','year_of_release'], values = 'total_sales',\n",
    "                          aggfunc = 'sum')"
   ]
  },
  {
   "cell_type": "code",
   "execution_count": 14,
   "metadata": {
    "scrolled": true
   },
   "outputs": [
    {
     "data": {
      "image/png": "[encoded data removed]",
      "text/plain": [
       "<Figure size 432x216 with 1 Axes>"
      ]
     },
     "metadata": {
      "needs_background": "light"
     },
     "output_type": "display_data"
    }
   ],
   "source": [
    "myplot = platforms_years.xs(\"PS2\").plot(figsize = (6,3))\n",
    "#первый график построим вручную что бы потом нанести на него остальные\n",
    "top5list = top6list[1:]\n",
    "for i in top5list:\n",
    "    #print(i)\n",
    "    newplot = platforms_years.xs(i).plot(figsize = (6,3), ax = myplot)\n",
    "    newplot.legend([i for i in top6list])\n",
    "#мы видим что срок жизни платформы около 10 лет\n",
    "# пик приходится примерно на 5 лет, после идет спад"
   ]
  },
  {
   "cell_type": "code",
   "execution_count": 15,
   "metadata": {},
   "outputs": [],
   "source": [
    "#Возьмите данные за соответствующий актуальный период. \n",
    "#Актуальный период определите самостоятельно в результате исследования предыдущих вопросов. \n",
    "#Основной фактор — эти данные помогут построить прогноз на 2017 год.\n",
    "\n",
    "#за актуальный преиод возьмем 5 лет, т.к подобное рассмотрение позволит оценить положение\n",
    "#каждой актуальной платформы и спрогнозировтаь результат\n",
    "\n",
    "df = df.query('year_of_release  >= 2012')"
   ]
  },
  {
   "cell_type": "code",
   "execution_count": 16,
   "metadata": {
    "scrolled": true
   },
   "outputs": [
    {
     "name": "stdout",
     "output_type": "stream",
     "text": [
      "                          total_sales\n",
      "platform year_of_release             \n",
      "3DS      2012                   51.36\n",
      "         2013                   57.76\n",
      "         2014                   43.76\n",
      "         2015                   27.78\n",
      "         2016                   15.14\n",
      "DS       2012                   11.01\n",
      "         2013                    1.54\n",
      "PC       2012                   23.22\n",
      "         2013                   12.38\n",
      "         2014                   13.28\n",
      "         2015                    8.52\n",
      "         2016                    5.25\n",
      "PS3      2012                  107.36\n",
      "         2013                  113.25\n",
      "         2014                   47.76\n",
      "         2015                   16.82\n",
      "         2016                    3.60\n",
      "PS4      2013                   25.99\n",
      "         2014                  100.00\n",
      "         2015                  118.90\n",
      "         2016                   69.25\n",
      "PSP      2012                    7.69\n",
      "         2013                    3.14\n",
      "         2014                    0.24\n",
      "         2015                    0.12\n",
      "PSV      2012                   16.19\n",
      "         2013                   10.59\n",
      "         2014                   12.16\n",
      "         2015                    6.25\n",
      "         2016                    4.25\n",
      "Wii      2012                   21.71\n",
      "         2013                    8.59\n",
      "         2014                    3.75\n",
      "         2015                    1.14\n",
      "         2016                    0.18\n",
      "WiiU     2012                   17.56\n",
      "         2013                   21.65\n",
      "         2014                   22.03\n",
      "         2015                   16.35\n",
      "         2016                    4.60\n",
      "X360     2012                   99.74\n",
      "         2013                   88.58\n",
      "         2014                   34.74\n",
      "         2015                   11.96\n",
      "         2016                    1.52\n",
      "XOne     2013                   18.96\n",
      "         2014                   54.07\n",
      "         2015                   60.14\n",
      "         2016                   26.15\n"
     ]
    }
   ],
   "source": [
    "#Какие платформы лидируют по продажам, растут или падают? \n",
    "#Выберите несколько потенциально прибыльных платформ.\n",
    "\n",
    "actual_platform_years = pd.pivot_table(df, index = ['platform','year_of_release'], values = 'total_sales',\n",
    "                          aggfunc = 'sum')\n",
    "\n",
    "print(actual_platform_years)\n",
    "# всего 11 платформ, выведем их все на график\n"
   ]
  },
  {
   "cell_type": "code",
   "execution_count": 17,
   "metadata": {},
   "outputs": [],
   "source": [
    "actual_list= actual_platform_years.index.get_level_values('platform').tolist()"
   ]
  },
  {
   "cell_type": "code",
   "execution_count": 18,
   "metadata": {},
   "outputs": [
    {
     "name": "stdout",
     "output_type": "stream",
     "text": [
      "['3DS', 'DS', 'PC', 'PS3', 'PS4', 'PSP', 'PSV', 'Wii', 'WiiU', 'X360', 'XOne']\n"
     ]
    }
   ],
   "source": [
    "#print(actual_list)\n",
    "actual_list_final = []\n",
    "for i in actual_list: \n",
    "    if i not in actual_list_final: \n",
    "        actual_list_final.append(i)     \n",
    "print(actual_list_final) #убрали дубликаты"
   ]
  },
  {
   "cell_type": "code",
   "execution_count": 19,
   "metadata": {},
   "outputs": [
    {
     "data": {
      "image/png": "[encoded data removed]",
      "text/plain": [
       "<Figure size 1080x360 with 1 Axes>"
      ]
     },
     "metadata": {
      "needs_background": "light"
     },
     "output_type": "display_data"
    }
   ],
   "source": [
    "firs_plot = actual_platform_years.xs('3DS').plot(figsize = (15,5))\n",
    "#первый график построим вручную что бы потом нанести на него остальные\n",
    "platformlist = actual_list_final[1:]\n",
    "for i in platformlist:\n",
    "    #print(i)\n",
    "    newplot = actual_platform_years.xs(i).plot(figsize = (15,5), ax = firs_plot)\n",
    "    newplot.legend([i for i in actual_list_final])\n",
    "    \n",
    "#везде спад, но платформы PS4 и XOne пока что не окончательно сдохли и будут актуальны в следующем году"
   ]
  },
  {
   "cell_type": "code",
   "execution_count": 20,
   "metadata": {},
   "outputs": [
    {
     "data": {
      "text/plain": [
       "<matplotlib.axes._subplots.AxesSubplot at 0x7f1bd916c208>"
      ]
     },
     "execution_count": 20,
     "metadata": {},
     "output_type": "execute_result"
    },
    {
     "data": {
      "image/png": "[encoded data removed]",
      "text/plain": [
       "<Figure size 1440x720 with 1 Axes>"
      ]
     },
     "metadata": {
      "needs_background": "light"
     },
     "output_type": "display_data"
    }
   ],
   "source": [
    "#Постройте график «ящик с усами» по глобальным продажам каждой игры и разбивкой по платформам. \n",
    "#Велика ли разница в продажах? \n",
    "#А в средних продажах на разных платформах? Опишите результат.\n",
    "\n",
    "plt.figure(figsize=(20,10)) #можно нажать на картинку для приближения\n",
    "sns.boxplot(data = df, y = 'total_sales', x = 'platform')\n",
    "\n",
    "#у платформ серии XBox (X360, XOne) больше медианная продажа игр, а так же более существенный разброс в большую сторону\n",
    "#по сравнению с платформами PlayStation (PS3,PS4)\n",
    "#Платформы WI и WIU по распределению продаж похожи на PS, имеют меньшную медиану и разброс относительно XBoxов\n"
   ]
  },
  {
   "cell_type": "code",
   "execution_count": 21,
   "metadata": {},
   "outputs": [
    {
     "data": {
      "text/plain": [
       "<matplotlib.axes._subplots.AxesSubplot at 0x7f1bd858eba8>"
      ]
     },
     "execution_count": 21,
     "metadata": {},
     "output_type": "execute_result"
    },
    {
     "data": {
      "image/png": "[encoded data removed]",
      "text/plain": [
       "<Figure size 432x288 with 1 Axes>"
      ]
     },
     "metadata": {
      "needs_background": "light"
     },
     "output_type": "display_data"
    }
   ],
   "source": [
    "#Посмотрите, как влияют на продажи внутри одной популярной платформы отзывы пользователей и критиков.\n",
    "#Постройте диаграмму рассеяния и посчитайте корреляцию между отзывами и продажами. \n",
    "#Сформулируйте выводы.\n",
    "\n",
    "#возьмем платформу PS4\n",
    "\n",
    "#по ретйингу игроков\n",
    "sns.scatterplot(data=df.query('platform == \"PS4\"').sort_values('user_score'), x = 'user_score', y = 'total_sales')"
   ]
  },
  {
   "cell_type": "code",
   "execution_count": 22,
   "metadata": {},
   "outputs": [
    {
     "data": {
      "text/plain": [
       "<matplotlib.axes._subplots.AxesSubplot at 0x7f1bd93dc7f0>"
      ]
     },
     "execution_count": 22,
     "metadata": {},
     "output_type": "execute_result"
    },
    {
     "data": {
      "image/png": "[encoded data removed]",
      "text/plain": [
       "<Figure size 432x288 with 1 Axes>"
      ]
     },
     "metadata": {
      "needs_background": "light"
     },
     "output_type": "display_data"
    }
   ],
   "source": [
    "#Критики\n",
    "sns.scatterplot(data=df.query('platform == \"PS4\"').sort_values('critic_score'), x = 'critic_score', y = 'total_sales')"
   ]
  },
  {
   "cell_type": "code",
   "execution_count": 23,
   "metadata": {},
   "outputs": [
    {
     "name": "stdout",
     "output_type": "stream",
     "text": [
      "0.40656790206178095\n",
      "-0.031957110204556424\n"
     ]
    }
   ],
   "source": [
    "#внешне кажется что оценка критиков больше корелирует с продажами, чем оченка игроков.\n",
    "print(df.query('platform == \"PS4\"')['critic_score'].corr(df.query('platform == \"PS4\"')['total_sales']))\n",
    "print(df.query('platform == \"PS4\"')['user_score'].corr(df.query('platform == \"PS4\"')['total_sales']))\n",
    "\n",
    "#Все правильно. Оценки критиков значимо коррелируют с продажами игры PS4, а оценки самих игроков никак не влияют на продажу"
   ]
  },
  {
   "cell_type": "code",
   "execution_count": 24,
   "metadata": {},
   "outputs": [
    {
     "name": "stdout",
     "output_type": "stream",
     "text": [
      "0.30829029587247037\n",
      "0.004817442237192994\n"
     ]
    }
   ],
   "source": [
    "#Соотнесите выводы с продажами игр на других платформах\n",
    "print(df['critic_score'].corr(df['total_sales']))\n",
    "print(df['user_score'].corr(df['total_sales']))\n",
    "# в целом тенденция примерно такая же, хотя для PS4 рейтинг критиков влияет на продажи все таки чуть больше"
   ]
  },
  {
   "cell_type": "code",
   "execution_count": 25,
   "metadata": {},
   "outputs": [
    {
     "name": "stdout",
     "output_type": "stream",
     "text": [
      "              total_sales\n",
      "genre                    \n",
      "Adventure        0.097426\n",
      "Puzzle           0.174643\n",
      "Strategy         0.187887\n",
      "Fighting         0.408165\n",
      "Action           0.427829\n",
      "Simulation       0.434268\n",
      "Misc             0.442917\n",
      "Racing           0.461983\n",
      "Role-Playing     0.519059\n",
      "Sports           0.673197\n",
      "Platform         0.717647\n",
      "Shooter          1.291525\n"
     ]
    }
   ],
   "source": [
    "#Посмотрите на общее распределение игр по жанрам. \n",
    "#Что можно сказать о самых прибыльных жанрах? \n",
    "#Выделяются ли жанры с высокими и низкими продажами?\n",
    "\n",
    "genrepivot = pd.pivot_table(df, index = 'genre', values = 'total_sales', aggfunc = 'mean')\n",
    "print(genrepivot.sort_values('total_sales'))\n",
    "#Шутеры в среднем рпиносят значительно больше денег\n",
    "#в то время как жанры Adventure, Puzzle, Strategy сильно проседают."
   ]
  },
  {
   "cell_type": "markdown",
   "metadata": {},
   "source": [
    "#### Вывод. Мы провели исследовательский анализ данных. Рассмотрели как исторически менялись продажи игр, установили среднюю продолжительность жизни платформы (около 10 лет). Определили перспективные платформы для продаж игр в будующем году, установили отличие в разбросе дохода игр с PS и XBox. Выяснили что рейтинг критиков существенно влияет на продажи игр, а рейтинг пользователей не влияет совсем. Изучили среднюю доходность по жанрам в результате чего узнали что средний шутер приносит в 14 раз больше дохода чем средняя игра жанра Adventure."
   ]
  },
  {
   "cell_type": "markdown",
   "metadata": {},
   "source": [
    "# Портрет пользователя"
   ]
  },
  {
   "cell_type": "code",
   "execution_count": 26,
   "metadata": {},
   "outputs": [],
   "source": [
    "#Определите для пользователя каждого региона (NA, EU, JP):\n",
    "#Самые популярные платформы (топ-5). Опишите различия в долях продаж.\n",
    "#Самые популярные жанры (топ-5). Поясните разницу."
   ]
  },
  {
   "cell_type": "code",
   "execution_count": 27,
   "metadata": {},
   "outputs": [
    {
     "name": "stdout",
     "output_type": "stream",
     "text": [
      "          eu_sales  jp_sales  na_sales  total_sales\n",
      "platform                                           \n",
      "3DS          42.85     87.84     56.15       195.80\n",
      "DS            3.53      3.72      4.59        12.55\n",
      "PC           37.76      0.00     19.12        62.65\n",
      "PS3         106.86     35.29    103.38       288.79\n",
      "PS4         141.09     15.96    108.74       314.14\n",
      "PSP           0.42     10.47      0.13        11.19\n",
      "PSV          11.41     21.11     11.09        49.44\n",
      "Wii          11.92      3.39     17.45        35.37\n",
      "WiiU         25.13     13.01     38.10        82.19\n",
      "X360         74.52      1.57    140.05       236.54\n",
      "XOne         51.59      0.34     93.12       159.32\n"
     ]
    }
   ],
   "source": [
    "top_platforms_regions = pd.pivot_table(data = df, index = 'platform', values = ['na_sales','eu_sales','jp_sales','total_sales'], aggfunc ='sum' )\n",
    "\n",
    "print(top_platforms_regions)"
   ]
  },
  {
   "cell_type": "code",
   "execution_count": 28,
   "metadata": {},
   "outputs": [
    {
     "data": {
      "text/html": [
       "<div>\n",
       "<style scoped>\n",
       "    .dataframe tbody tr th:only-of-type {\n",
       "        vertical-align: middle;\n",
       "    }\n",
       "\n",
       "    .dataframe tbody tr th {\n",
       "        vertical-align: top;\n",
       "    }\n",
       "\n",
       "    .dataframe thead th {\n",
       "        text-align: right;\n",
       "    }\n",
       "</style>\n",
       "<table border=\"1\" class=\"dataframe\">\n",
       "  <thead>\n",
       "    <tr style=\"text-align: right;\">\n",
       "      <th></th>\n",
       "      <th>eu_meaning</th>\n",
       "      <th>jp_meaning</th>\n",
       "      <th>na_meaning</th>\n",
       "    </tr>\n",
       "    <tr>\n",
       "      <th>platform</th>\n",
       "      <th></th>\n",
       "      <th></th>\n",
       "      <th></th>\n",
       "    </tr>\n",
       "  </thead>\n",
       "  <tbody>\n",
       "    <tr>\n",
       "      <td>3DS</td>\n",
       "      <td>21.884576</td>\n",
       "      <td>44.862104</td>\n",
       "      <td>28.677222</td>\n",
       "    </tr>\n",
       "    <tr>\n",
       "      <td>DS</td>\n",
       "      <td>28.127490</td>\n",
       "      <td>29.641434</td>\n",
       "      <td>36.573705</td>\n",
       "    </tr>\n",
       "    <tr>\n",
       "      <td>PC</td>\n",
       "      <td>60.271349</td>\n",
       "      <td>0.000000</td>\n",
       "      <td>30.518755</td>\n",
       "    </tr>\n",
       "    <tr>\n",
       "      <td>PS3</td>\n",
       "      <td>37.002666</td>\n",
       "      <td>12.219952</td>\n",
       "      <td>35.797638</td>\n",
       "    </tr>\n",
       "    <tr>\n",
       "      <td>PS4</td>\n",
       "      <td>44.913096</td>\n",
       "      <td>5.080537</td>\n",
       "      <td>34.615140</td>\n",
       "    </tr>\n",
       "    <tr>\n",
       "      <td>PSP</td>\n",
       "      <td>3.753351</td>\n",
       "      <td>93.565684</td>\n",
       "      <td>1.161752</td>\n",
       "    </tr>\n",
       "    <tr>\n",
       "      <td>PSV</td>\n",
       "      <td>23.078479</td>\n",
       "      <td>42.698220</td>\n",
       "      <td>22.431230</td>\n",
       "    </tr>\n",
       "    <tr>\n",
       "      <td>Wii</td>\n",
       "      <td>33.700876</td>\n",
       "      <td>9.584394</td>\n",
       "      <td>49.335595</td>\n",
       "    </tr>\n",
       "    <tr>\n",
       "      <td>WiiU</td>\n",
       "      <td>30.575496</td>\n",
       "      <td>15.829176</td>\n",
       "      <td>46.356004</td>\n",
       "    </tr>\n",
       "    <tr>\n",
       "      <td>X360</td>\n",
       "      <td>31.504185</td>\n",
       "      <td>0.663736</td>\n",
       "      <td>59.207745</td>\n",
       "    </tr>\n",
       "    <tr>\n",
       "      <td>XOne</td>\n",
       "      <td>32.381371</td>\n",
       "      <td>0.213407</td>\n",
       "      <td>58.448406</td>\n",
       "    </tr>\n",
       "  </tbody>\n",
       "</table>\n",
       "</div>"
      ],
      "text/plain": [
       "          eu_meaning  jp_meaning  na_meaning\n",
       "platform                                    \n",
       "3DS        21.884576   44.862104   28.677222\n",
       "DS         28.127490   29.641434   36.573705\n",
       "PC         60.271349    0.000000   30.518755\n",
       "PS3        37.002666   12.219952   35.797638\n",
       "PS4        44.913096    5.080537   34.615140\n",
       "PSP         3.753351   93.565684    1.161752\n",
       "PSV        23.078479   42.698220   22.431230\n",
       "Wii        33.700876    9.584394   49.335595\n",
       "WiiU       30.575496   15.829176   46.356004\n",
       "X360       31.504185    0.663736   59.207745\n",
       "XOne       32.381371    0.213407   58.448406"
      ]
     },
     "execution_count": 28,
     "metadata": {},
     "output_type": "execute_result"
    }
   ],
   "source": [
    "top_platforms_regions['eu_meaning'] = top_platforms_regions['eu_sales'] /(top_platforms_regions['total_sales']/100) \n",
    "top_platforms_regions['jp_meaning'] = top_platforms_regions['jp_sales'] /(top_platforms_regions['total_sales']/100) \n",
    "top_platforms_regions['na_meaning'] = top_platforms_regions['na_sales'] /(top_platforms_regions['total_sales']/100)\n",
    "top_platforms_regions[['eu_meaning','jp_meaning','na_meaning']]"
   ]
  },
  {
   "cell_type": "code",
   "execution_count": 29,
   "metadata": {},
   "outputs": [
    {
     "data": {
      "text/plain": [
       "platform\n",
       "PC      60.271349\n",
       "PS4     44.913096\n",
       "PS3     37.002666\n",
       "Wii     33.700876\n",
       "XOne    32.381371\n",
       "Name: eu_meaning, dtype: float64"
      ]
     },
     "execution_count": 29,
     "metadata": {},
     "output_type": "execute_result"
    }
   ],
   "source": [
    "#топ 5 для EU\n",
    "top_platforms_regions['eu_meaning'].sort_values(ascending=False).head(5)"
   ]
  },
  {
   "cell_type": "code",
   "execution_count": 30,
   "metadata": {},
   "outputs": [
    {
     "data": {
      "text/plain": [
       "platform\n",
       "PSP     93.565684\n",
       "3DS     44.862104\n",
       "PSV     42.698220\n",
       "DS      29.641434\n",
       "WiiU    15.829176\n",
       "Name: jp_meaning, dtype: float64"
      ]
     },
     "execution_count": 30,
     "metadata": {},
     "output_type": "execute_result"
    }
   ],
   "source": [
    "#топ 5 для JP\n",
    "top_platforms_regions['jp_meaning'].sort_values(ascending=False).head(5)"
   ]
  },
  {
   "cell_type": "code",
   "execution_count": 31,
   "metadata": {},
   "outputs": [
    {
     "data": {
      "text/plain": [
       "platform\n",
       "X360    59.207745\n",
       "XOne    58.448406\n",
       "Wii     49.335595\n",
       "WiiU    46.356004\n",
       "DS      36.573705\n",
       "Name: na_meaning, dtype: float64"
      ]
     },
     "execution_count": 31,
     "metadata": {},
     "output_type": "execute_result"
    }
   ],
   "source": [
    "#топ 5 для NA\n",
    "top_platforms_regions['na_meaning'].sort_values(ascending=False).head(5)\n",
    "#выходит что в Амреике играют на XBox, в Европе на Playstation, \n",
    "#а в Японии на своих консолях типа PSP, 3DS, PSV"
   ]
  },
  {
   "cell_type": "code",
   "execution_count": 32,
   "metadata": {},
   "outputs": [
    {
     "data": {
      "text/html": [
       "<div>\n",
       "<style scoped>\n",
       "    .dataframe tbody tr th:only-of-type {\n",
       "        vertical-align: middle;\n",
       "    }\n",
       "\n",
       "    .dataframe tbody tr th {\n",
       "        vertical-align: top;\n",
       "    }\n",
       "\n",
       "    .dataframe thead th {\n",
       "        text-align: right;\n",
       "    }\n",
       "</style>\n",
       "<table border=\"1\" class=\"dataframe\">\n",
       "  <thead>\n",
       "    <tr style=\"text-align: right;\">\n",
       "      <th></th>\n",
       "      <th>eu_meaning_real</th>\n",
       "      <th>jp_meaning_real</th>\n",
       "      <th>na_meaning_real</th>\n",
       "    </tr>\n",
       "    <tr>\n",
       "      <th>rating</th>\n",
       "      <th></th>\n",
       "      <th></th>\n",
       "      <th></th>\n",
       "    </tr>\n",
       "  </thead>\n",
       "  <tbody>\n",
       "    <tr>\n",
       "      <td>E</td>\n",
       "      <td>2.133661</td>\n",
       "      <td>2.355333</td>\n",
       "      <td>-3.879262</td>\n",
       "    </tr>\n",
       "    <tr>\n",
       "      <td>E10+</td>\n",
       "      <td>-1.591392</td>\n",
       "      <td>-2.253737</td>\n",
       "      <td>4.973119</td>\n",
       "    </tr>\n",
       "    <tr>\n",
       "      <td>M</td>\n",
       "      <td>0.811828</td>\n",
       "      <td>-3.348444</td>\n",
       "      <td>1.670659</td>\n",
       "    </tr>\n",
       "    <tr>\n",
       "      <td>T</td>\n",
       "      <td>-4.767497</td>\n",
       "      <td>8.463520</td>\n",
       "      <td>-3.141553</td>\n",
       "    </tr>\n",
       "    <tr>\n",
       "      <td>Total</td>\n",
       "      <td>0.000000</td>\n",
       "      <td>0.000000</td>\n",
       "      <td>0.000000</td>\n",
       "    </tr>\n",
       "  </tbody>\n",
       "</table>\n",
       "</div>"
      ],
      "text/plain": [
       "        eu_meaning_real  jp_meaning_real  na_meaning_real\n",
       "rating                                                   \n",
       "E              2.133661         2.355333        -3.879262\n",
       "E10+          -1.591392        -2.253737         4.973119\n",
       "M              0.811828        -3.348444         1.670659\n",
       "T             -4.767497         8.463520        -3.141553\n",
       "Total          0.000000         0.000000         0.000000"
      ]
     },
     "execution_count": 32,
     "metadata": {},
     "output_type": "execute_result"
    }
   ],
   "source": [
    "#Влияет ли рейтинг ESRB на продажи в отдельном регионе? \n",
    "\n",
    "\n",
    "esrb_pivot = pd.pivot_table(data = df, index = 'rating' , values = ['na_sales','eu_sales','jp_sales','total_sales'], aggfunc ='sum' )\n",
    "esrb_pivot.loc['Total',:]= esrb_pivot.sum(axis=0)\n",
    "\n",
    "esrb_pivot['eu_meaning'] = esrb_pivot['eu_sales'] /(esrb_pivot['total_sales']/100)\n",
    "esrb_pivot['jp_meaning'] = esrb_pivot['jp_sales'] /(esrb_pivot['total_sales']/100)\n",
    "esrb_pivot['na_meaning'] = esrb_pivot['na_sales'] /(esrb_pivot['total_sales']/100)\n",
    "#посомтрим относительно продаж \n",
    "esrb_pivot['eu_meaning_real'] = esrb_pivot['eu_meaning'] - esrb_pivot.loc['Total']['eu_meaning']\n",
    "esrb_pivot['jp_meaning_real'] = esrb_pivot['jp_meaning'] - esrb_pivot.loc['Total']['jp_meaning']\n",
    "esrb_pivot['na_meaning_real'] = esrb_pivot['na_meaning'] - esrb_pivot.loc['Total']['na_meaning']\n",
    "esrb_pivot[['eu_meaning_real','jp_meaning_real','na_meaning_real']]\n",
    "\n",
    "#Мы видим что игры жанра E не популярны в Америке, зато популярны игры Е10\n",
    "# В Японии не популярны М, вместо них популярны Т.\n",
    "\n",
    "#в целом кроме жанра Т популярного у Японцев отколнения незначительные"
   ]
  },
  {
   "cell_type": "markdown",
   "metadata": {},
   "source": [
    "#### Вывод. Мы рассмотрели различие в поведении пользователей из разных регионов. Выяснили,  в Амреике играют на XBox, в Европе на Playstation, а в Японии на своих консолях типа PSP, 3DS, PSV. Так же у Японцев особенно популярен жанр игр с рейтингом Т."
   ]
  },
  {
   "cell_type": "markdown",
   "metadata": {},
   "source": [
    "# Проверка гипотез"
   ]
  },
  {
   "cell_type": "code",
   "execution_count": 33,
   "metadata": {},
   "outputs": [
    {
     "name": "stdout",
     "output_type": "stream",
     "text": [
      "p-значение: 0.5535080500643661\n",
      "Принимаем нулевую гипотезу:Средние пользовательские рейтинги платформ Xbox One и PC одинаковые\n"
     ]
    }
   ],
   "source": [
    "#Нулевая гипотеза: Средние пользовательские рейтинги платформ Xbox One и PC одинаковые;\n",
    "#Альтернативная гипотеза : Средние пользовательские рейтинги платформ Xbox One и PC отличаются.\n",
    "\n",
    "#Нулевая гипотеза говорит о равенстве, альфу берем стандартную 5%.\n",
    "xbox_ratings = df.query('platform == \"XOne\"')['user_score'].dropna()\n",
    "pc_ratings = df.query('platform == \"PC\"')['user_score'].dropna()\n",
    "\n",
    "alpha = 0.05\n",
    "\n",
    "results = st.ttest_ind(\n",
    "    xbox_ratings, \n",
    "    pc_ratings)\n",
    "print('p-значение:', results.pvalue)\n",
    "\n",
    "if results.pvalue > alpha:\n",
    "    print('Принимаем нулевую гипотезу:Средние пользовательские рейтинги платформ Xbox One и PC одинаковые')\n",
    "else: \n",
    "    print('Отвергаем нулевую гипотезу.Альтер:Сердние рейтинги данных консолей различаются')"
   ]
  },
  {
   "cell_type": "code",
   "execution_count": 34,
   "metadata": {},
   "outputs": [
    {
     "name": "stdout",
     "output_type": "stream",
     "text": [
      "p-значение: 3.517102771333629e-26\n",
      "Отвергаем нулевую гипотезу.Альтер:Средние пользовательские рейтинги жанров Action и Sports различаются\n"
     ]
    }
   ],
   "source": [
    "#Нулевая гипотеза: Средние пользовательские рейтинги жанров Action и Sports одинаковые.\n",
    "#Альтернативная гипотеза: Средние пользовательские рейтинги жанров Action и Sports различаются\n",
    "\n",
    "\n",
    "action_ratings = df.query('genre == \"Action\"')['user_score'].dropna()\n",
    "pc_ratings = df.query('genre == \"Sports\"')['user_score'].dropna()\n",
    "\n",
    "alpha = 0.05\n",
    "\n",
    "results = st.ttest_ind(\n",
    "    action_ratings, \n",
    "    pc_ratings)\n",
    "print('p-значение:', results.pvalue)\n",
    "\n",
    "if results.pvalue > alpha:\n",
    "    print('Принимаем нулевую гипотезу:Средние пользовательские рейтинги жанров Action и Sports одинаковые.')\n",
    "else: \n",
    "    print('Отвергаем нулевую гипотезу.Альтер:Средние пользовательские рейтинги жанров Action и Sports различаются')"
   ]
  },
  {
   "cell_type": "markdown",
   "metadata": {},
   "source": [
    "#### Мы подтвердили гипотезу о том что Средние пользовательские рейтинги платформ Xbox One и PC одинаковые; и опровергли гипотезу об одинаковых рейтингах в Sport и Асtion жанрах, приняв альтерантивную гипотезу о том что срение рейтинги в этих жанрах различаются."
   ]
  },
  {
   "cell_type": "markdown",
   "metadata": {},
   "source": [
    "# Вывод"
   ]
  },
  {
   "cell_type": "markdown",
   "metadata": {},
   "source": [
    "#### Мы провели работу по анализу базы данных по продаже игр. Мы подготовили данные к дальнейшему анализу. Заменили дубликаты, создали столбик с сумарным количеством продаж.\n",
    "#### В процессе анализа рассмотрели как исторически менялись продажи игр, установили среднюю продолжительность жизни платформы (около 10 лет). Определили перспективные платформы для продаж игр в будующем году, установили отличие в разбросе дохода игр с PS и XBox. Выяснили что рейтинг критиков существенно влияет на продажи игр, а рейтинг пользователей не влияет совсем. Изучили среднюю доходность по жанрам в результате чего узнали что средний шутер приносит в 14 раз больше дохода чем средняя игра жанра Adventure.\n",
    "#### Рассмотрев различие в поведении пользователей из разных регионов. Мы выяснили, что в Амреике играют на XBox, в Европе на Playstation, а в Японии на своих консолях типа PSP, 3DS, PSV. Так же у Японцев особенно популярен жанр игр с рейтингом Т.\n",
    "#### В заключении мы подтвердили гипотезу о том что Средние пользовательские рейтинги платформ Xbox One и PC одинаковые; и опровергли гипотезу об одинаковых рейтингах в Sport и Асtion жанрах, приняв альтерантивную гипотезу о том что срение рейтинги в этих жанрах различаются."
   ]
  }
 ],
 "metadata": {
  "kernelspec": {
   "display_name": "Python 3",
   "language": "python",
   "name": "python3"
  },
  "language_info": {
   "codemirror_mode": {
    "name": "ipython",
    "version": 3
   },
   "file_extension": ".py",
   "mimetype": "text/x-python",
   "name": "python",
   "nbconvert_exporter": "python",
   "pygments_lexer": "ipython3",
   "version": "3.7.4"
  }
 },
 "nbformat": 4,
 "nbformat_minor": 2
}
